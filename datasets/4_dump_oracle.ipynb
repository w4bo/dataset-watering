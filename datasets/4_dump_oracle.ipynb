{
 "cells": [
  {
   "cell_type": "code",
   "execution_count": null,
   "metadata": {
    "execution": {
     "iopub.execute_input": "2024-01-25T09:13:07.857195Z",
     "iopub.status.busy": "2024-01-25T09:13:07.857195Z",
     "iopub.status.idle": "2024-01-25T09:13:08.394245Z",
     "shell.execute_reply": "2024-01-25T09:13:08.394245Z"
    }
   },
   "outputs": [],
   "source": [
    "from shared import *\n",
    "import cx_Oracle\n",
    "import os\n",
    "os.environ[\"LD_LIBRARY_PATH\"] = config[\"LD_LIBRARY_PATH\"]\n",
    "print(os.environ[\"LD_LIBRARY_PATH\"])\n",
    "print(config[\"LD_LIBRARY_PATH\"])\n",
    "cx_Oracle.init_oracle_client(lib_dir=config[\"LD_LIBRARY_PATH\"])"
   ]
  },
  {
   "cell_type": "code",
   "execution_count": null,
   "metadata": {
    "execution": {
     "iopub.execute_input": "2024-01-25T09:13:08.396245Z",
     "iopub.status.busy": "2024-01-25T09:13:08.396245Z",
     "iopub.status.idle": "2024-01-25T09:13:08.430653Z",
     "shell.execute_reply": "2024-01-25T09:13:08.430653Z"
    }
   },
   "outputs": [],
   "source": [
    "engine_in = get_engine(out_db_params)\n",
    "engine_in"
   ]
  },
  {
   "cell_type": "code",
   "execution_count": null,
   "metadata": {
    "execution": {
     "iopub.execute_input": "2024-01-25T09:13:08.455566Z",
     "iopub.status.busy": "2024-01-25T09:13:08.455566Z",
     "iopub.status.idle": "2024-01-25T09:13:08.843210Z",
     "shell.execute_reply": "2024-01-25T09:13:08.843210Z"
    }
   },
   "outputs": [],
   "source": [
    "for i, tables in {\n",
    "    1: [\"dt_time\", \"dt_field\", \"dt_agent\", \"ft_measurement\",],\n",
    "    2: [\"cimice_dt_time\", \"cimice_dt_trap\", \"cimice_ft_captures\",]\n",
    "}.items():\n",
    "    db_params = {\n",
    "        'host': config[\"OUT_ORA{}_HOST\".format(i)],\n",
    "        'database': config[\"OUT_ORA{}_DB\".format(i)],\n",
    "        'user': config[\"OUT_ORA{}_USER\".format(i)],\n",
    "        'password': config[\"OUT_ORA{}_PWD\".format(i)],\n",
    "        'port': config[\"OUT_ORA{}_PORT\".format(i)]\n",
    "    }\n",
    "    for table in tables:\n",
    "        engine_out = get_engine(db_params, type=\"oracle\")\n",
    "        sql_query = \"SELECT * FROM {}\".format(table)\n",
    "        print(sql_query)\n",
    "        dt = pd.read_sql(sql_query, engine_in)\n",
    "        dt.to_sql(table, engine_out, if_exists='replace', index=False, chunksize=100000)"
   ]
  }
 ],
 "metadata": {
  "kernelspec": {
   "display_name": "venv",
   "language": "python",
   "name": "python3"
  },
  "language_info": {
   "codemirror_mode": {
    "name": "ipython",
    "version": 3
   },
   "file_extension": ".py",
   "mimetype": "text/x-python",
   "name": "python",
   "nbconvert_exporter": "python",
   "pygments_lexer": "ipython3",
   "version": "3.12.1"
  }
 },
 "nbformat": 4,
 "nbformat_minor": 2
}
